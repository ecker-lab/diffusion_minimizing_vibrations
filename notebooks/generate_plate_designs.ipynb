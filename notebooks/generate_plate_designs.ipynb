{
 "cells": [
  {
   "cell_type": "markdown",
   "metadata": {},
   "source": [
    "# Minimizing Structural Vibrations via Guided Diffusion Design Optimization \n",
    "\n",
    "This notebook enables the quick and easy generation of novel plate designs with minimized structural vibrations. You can specify for what frequency range you want to generate plate designs with low vibration energy.\n",
    "\n",
    "IMPORTANT: This notebook does not implement the numerical simulation of the actual vibrations given the plate design. Thus, results displayed here are only based on the deep learning regression model. These results are expected to be biased towards lower values than numerically simulated vibrations."
   ]
  },
  {
   "cell_type": "markdown",
   "metadata": {},
   "source": [
    "## Set up environment"
   ]
  },
  {
   "cell_type": "code",
   "execution_count": null,
   "metadata": {},
   "outputs": [],
   "source": [
    "import torch, os\n",
    "import matplotlib.pyplot as plt\n",
    "import glob\n",
    "import numpy as np\n",
    "import seaborn as sns\n",
    "\n",
    "plt.rcParams.update({'font.size': 10})\n",
    "figsize = (6, 4.5)\n",
    "\n",
    "%reload_ext autoreload\n",
    "%autoreload 2\n"
   ]
  },
  {
   "cell_type": "code",
   "execution_count": null,
   "metadata": {},
   "outputs": [],
   "source": [
    "import os, argparse, time, torch\n",
    "import numpy as np\n",
    "from acousticnn.plate.configs.main_dir import main_dir\n",
    "from torchinfo import summary\n",
    "\n",
    "from diffusers import DDPMScheduler\n",
    "from diffusion_plate_optim.utils.guidance_utils import diffusion_guidance, load_regression_model, load_diffusion_model, \\\n",
    "    get_moments_from_npz, init_train_logger, get_velocity_sum, print_log"
   ]
  },
  {
   "cell_type": "markdown",
   "metadata": {},
   "source": [
    "## Generate novel plate designs"
   ]
  },
  {
   "cell_type": "markdown",
   "metadata": {},
   "source": [
    "In the following cell, we specify the pretrained diffusion and regression models and the number of denoising steps as well as the loss function. \n",
    "\n",
    "You can change the loss function to generate plate designs optimized for different excitation frequencies. \n",
    "\n",
    "You could for example change the values for min_freq and max freq. Or arbitrarily define another loss function. \n",
    "\n",
    "Keep in mind that only integer values between 0 and 300 are valid."
   ]
  },
  {
   "cell_type": "code",
   "execution_count": null,
   "metadata": {},
   "outputs": [],
   "source": [
    "diffusion_path = \"../data/checkpoint_diffusion_model.pt\"\n",
    "regression_path = \"../data/checkpoint_full_data.pt\"\n",
    "n_steps = 500\n",
    "batch_size = 4\n",
    "\n",
    "min_freq, max_freq = 100, 200\n",
    "\n",
    "def loss_function_wrapper(min_freq, max_freq):\n",
    "    def loss_function(predictions):\n",
    "        subset_predictions = predictions[:, min_freq:max_freq]\n",
    "        return subset_predictions.sum() * np.sqrt(100/len(subset_predictions.flatten())), len(subset_predictions.flatten())\n",
    "    return loss_function\n",
    "\n",
    "loss_function = loss_function_wrapper(min_freq=min_freq, max_freq=max_freq)"
   ]
  },
  {
   "cell_type": "code",
   "execution_count": null,
   "metadata": {},
   "outputs": [],
   "source": [
    "out_mean, out_std, field_mean, field_std = get_moments_from_npz(\"../data/moments.npz\")\n",
    "diffusion_model = load_diffusion_model(diffusion_path)\n",
    "summary(diffusion_model)\n",
    "noise_scheduler = DDPMScheduler(num_train_timesteps=n_steps)\n",
    "regression_model = load_regression_model(regression_path)\n",
    "image_snapshots = diffusion_guidance(diffusion_model, regression_model, noise_scheduler, field_mean, field_std, loss_fn=loss_function, n_steps=n_steps, do_diffusion=True, batch_size=batch_size)\n",
    "\n",
    "# sorting and saving\n",
    "images, predictions = image_snapshots[-1][0], image_snapshots[-1][1]\n",
    "sort_idx = np.argsort([get_velocity_sum(pred) for pred in predictions])\n",
    "images, predictions = images[sort_idx], predictions[sort_idx]"
   ]
  },
  {
   "cell_type": "markdown",
   "metadata": {},
   "source": [
    "## Visualize Results"
   ]
  },
  {
   "cell_type": "code",
   "execution_count": null,
   "metadata": {},
   "outputs": [],
   "source": [
    "distribution = predictions[:, min_freq:max_freq].mean(1)\n",
    "distribution_sorted = distribution[np.argsort(distribution)]\n",
    "images_sorted = images[np.argsort(distribution)]\n",
    "predictions_sorted = predictions[np.argsort(distribution)]"
   ]
  },
  {
   "cell_type": "code",
   "execution_count": null,
   "metadata": {},
   "outputs": [],
   "source": [
    "fig, ax = plt.subplots(figsize=figsize)\n",
    "for r in predictions_sorted[:16]:\n",
    "    plt.plot(r, lw=1)\n",
    "sns.despine(offset=5)\n",
    "ax.set_ylim(-20, 80)\n",
    "ax.grid(which=\"major\", lw=0.2)\n",
    "ax.set_xlabel('Frequency')\n",
    "ax.set_ylabel('Amplitude')\n",
    "plt.show()\n",
    "plt.close()"
   ]
  },
  {
   "cell_type": "code",
   "execution_count": null,
   "metadata": {},
   "outputs": [],
   "source": [
    "all_responses = np.load(\"../data/comparison_responses.npz\")[\"arr_0\"]\n",
    "fig, ax = plt.subplots(figsize=figsize)\n",
    "velocity_distribution = (all_responses[:, min_freq:max_freq]).mean(1)\n",
    "ax.hist(velocity_distribution, bins='auto',  density=True, edgecolor=\"black\", lw=0.5, label=\"Training data\")\n",
    "ax.scatter(distribution, y=np.zeros(len(distribution))+0.005, color=\"red\", label=\"Design results\", s=1)\n",
    "ax.set_ylabel('Density')\n",
    "plt.legend(frameon=False)\n",
    "sns.despine(offset=5)\n"
   ]
  },
  {
   "cell_type": "code",
   "execution_count": null,
   "metadata": {},
   "outputs": [],
   "source": [
    "idx = np.argmin(velocity_distribution)\n",
    "print(velocity_distribution[idx])\n",
    "\n",
    "fig, ax = plt.subplots(figsize=figsize)\n",
    "plt.plot(predictions_sorted[0], lw=0.5, label=\"Best generated\", color=\"#55a78c\")\n",
    "plt.plot(all_responses[idx], lw=0.5, label=f\"best in training data\", color=\"black\", linestyle='dashed',)\n",
    "sns.despine(offset=5)\n",
    "ax.set_ylim(-20, 80)\n",
    "ax.grid(which=\"major\", lw=0.2)\n",
    "ax.set_xlabel('Frequency')\n",
    "ax.set_ylabel('Amplitude')\n",
    "plt.legend()\n",
    "plt.show()\n",
    "plt.close()"
   ]
  },
  {
   "cell_type": "code",
   "execution_count": null,
   "metadata": {},
   "outputs": [],
   "source": [
    "fig, axes = plt.subplots(2, 2, figsize=(5.5, 4))\n",
    "\n",
    "for i, ax in enumerate(axes.flat):\n",
    "    ax.imshow(images_sorted[i][0], cmap='gray',vmin=0, vmax=1)\n",
    "    ax.axis('off')\n",
    "    ax.set_title(f\"{distribution_sorted[i]:4.2f}\")\n",
    "plt.tight_layout()\n",
    "plt.show()\n",
    "fig, ax = plt.subplots(figsize=figsize)\n",
    "plt.imshow(images_sorted[0][0], cmap='gray',vmin=0, vmax=1)\n",
    "plt.axis('off')\n",
    "plt.tight_layout()"
   ]
  },
  {
   "cell_type": "code",
   "execution_count": null,
   "metadata": {},
   "outputs": [],
   "source": []
  }
 ],
 "metadata": {
  "kernelspec": {
   "display_name": "Python 3",
   "language": "python",
   "name": "python3"
  },
  "language_info": {
   "codemirror_mode": {
    "name": "ipython",
    "version": 3
   },
   "file_extension": ".py",
   "mimetype": "text/x-python",
   "name": "python",
   "nbconvert_exporter": "python",
   "pygments_lexer": "ipython3",
   "version": "3.11.0"
  }
 },
 "nbformat": 4,
 "nbformat_minor": 2
}
